{
 "cells": [
  {
   "cell_type": "markdown",
   "id": "c67a6631-c893-44e6-bbbc-b2ab5c9bc5ae",
   "metadata": {},
   "source": [
    "# Target Trial Emulation in Python (TTE‑v1)\n",
    "\n",
    "This notebook replicates the key steps of the \"Target Trial Emulation in R\" tutorial by Alan Yang using Python. The analysis includes:\n",
    "\n",
    "1. Loading and inspecting the dummy data.\n",
    "2. Calculating inverse probability of censoring weights (IPCW).\n",
    "3. Expanding the observational data into a sequence of trial entries.\n",
    "4. Fitting a marginal structural outcome model (MSM) using weighted logistic regression.\n",
    "5. Generating predictions and plotting the results.\n",
    "\n",
    "*Note:* This is a simplified version designed to mimic the R tutorial’s workflow.\n"
   ]
  },
  {
   "cell_type": "code",
   "execution_count": 20,
   "id": "b5d11d48-f6a2-4b29-8388-0d001d50626a",
   "metadata": {},
   "outputs": [
    {
     "name": "stdout",
     "output_type": "stream",
     "text": [
      "Data Head:\n",
      "   id  period  treatment  x1        x2  x3        x4  age     age_s  outcome  \\\n",
      "0   1       0          1   1  1.146148   0  0.734203   36  0.083333        0   \n",
      "1   1       1          1   1  0.002200   0  0.734203   37  0.166667        0   \n",
      "2   1       2          1   0 -0.481762   0  0.734203   38  0.250000        0   \n",
      "3   1       3          1   0  0.007872   0  0.734203   39  0.333333        0   \n",
      "4   1       4          1   1  0.216054   0  0.734203   40  0.416667        0   \n",
      "\n",
      "   censored  eligible  \n",
      "0         0         1  \n",
      "1         0         0  \n",
      "2         0         0  \n",
      "3         0         0  \n",
      "4         0         0  \n",
      "\n",
      "Data Shape: (725, 12)\n"
     ]
    }
   ],
   "source": [
    "# Step 1: Data Preparation\n",
    "import pandas as pd\n",
    "import numpy as np\n",
    "import matplotlib.pyplot as plt\n",
    "import statsmodels.api as sm\n",
    "import statsmodels.formula.api as smf\n",
    "\n",
    "# Load the dummy data (make sure 'data_censored.csv' is in your working directory)\n",
    "data = pd.read_csv(\"data_censored.csv\")\n",
    "print(\"Data Head:\")\n",
    "print(data.head())\n",
    "print(\"\\nData Shape:\", data.shape)\n"
   ]
  },
  {
   "cell_type": "markdown",
   "id": "d4c534e0-321c-4e3b-b81a-e5b8f30dcfe7",
   "metadata": {},
   "source": [
    "## Data Inspection\n",
    "\n",
    "The dataset should contain columns such as:\n",
    "- `id`: Patient identifier\n",
    "- `period`: Time period\n",
    "- `treatment`: Indicator of treatment (1 = treated, 0 = not treated)\n",
    "- `x1`, `x2`, `x3`, `x4`: Covariates\n",
    "- `age`, `age_s`: Age variables\n",
    "- `outcome`: Outcome indicator (e.g., survival event)\n",
    "- `censored`: Censoring indicator (1 = censored, 0 = not censored)\n",
    "- `eligible`: Indicator of trial eligibility\n",
    "\n",
    "Review the output above to ensure the data loaded correctly.\n"
   ]
  },
  {
   "cell_type": "markdown",
   "id": "099def32-d9b2-4f4a-a009-631429baf865",
   "metadata": {},
   "source": [
    "## Step 2: Calculate Inverse Probability of Censoring Weights (IPCW)\n",
    "\n",
    "We model the probability of being uncensored using covariates (here, `x2` and `x1`). We then compute weights as the inverse of the predicted probability.\n"
   ]
  },
  {
   "cell_type": "code",
   "execution_count": 21,
   "id": "68965f31-4284-47b7-ad40-95fc3b3e93c3",
   "metadata": {},
   "outputs": [
    {
     "name": "stdout",
     "output_type": "stream",
     "text": [
      "IPCW Calculation:\n",
      "   uncensored  p_uncensored      ipcw\n",
      "0           1      0.914385  1.093631\n",
      "1           1      0.948181  1.054651\n",
      "2           1      0.919281  1.087807\n",
      "3           1      0.900444  1.110563\n",
      "4           1      0.943007  1.060438\n"
     ]
    }
   ],
   "source": [
    "# Create a new variable 'uncensored': 1 indicates not censored, 0 indicates censored.\n",
    "data['uncensored'] = 1 - data['censored']\n",
    "\n",
    "# Fit a logistic regression model to predict 'uncensored' status using x2 and x1.\n",
    "ipcw_model = smf.logit(\"uncensored ~ x2 + x1\", data=data).fit(disp=False)\n",
    "data['p_uncensored'] = ipcw_model.predict(data)\n",
    "\n",
    "# Compute the IPCW (inverse probability of being uncensored)\n",
    "data['ipcw'] = 1 / data['p_uncensored']\n",
    "\n",
    "# Display the first few rows of the weight-related columns\n",
    "print(\"IPCW Calculation:\")\n",
    "print(data[['uncensored', 'p_uncensored', 'ipcw']].head())\n"
   ]
  },
  {
   "cell_type": "markdown",
   "id": "f829c52f-b93d-4ee2-8b11-8b62ee7e8abb",
   "metadata": {},
   "source": [
    "## Step 3: Expand Data into a Sequence of Trials\n",
    "\n",
    "In the target trial emulation framework, each patient may enter the trial at different eligible periods. In this simplified example, we create a trial entry for every record where `eligible == 1` by adding new columns for `trial_period` and initializing `followup_time`.\n"
   ]
  },
  {
   "cell_type": "code",
   "execution_count": 22,
   "id": "b640697e-2377-4afe-9bee-5c5916747c85",
   "metadata": {},
   "outputs": [
    {
     "name": "stdout",
     "output_type": "stream",
     "text": [
      "Expanded Data Shape: (170, 17)\n",
      "     id  period  treatment   x1        x2   x3        x4   age     age_s  \\\n",
      "0   1.0     0.0        1.0  1.0  1.146148  0.0  0.734203  36.0  0.083333   \n",
      "6   2.0     0.0        0.0  1.0 -0.802142  0.0 -0.990794  26.0 -0.750000   \n",
      "7   2.0     1.0        1.0  1.0 -0.983030  0.0 -0.990794  27.0 -0.666667   \n",
      "11  3.0     0.0        1.0  0.0  0.571029  1.0  0.391966  48.0  1.083333   \n",
      "19  4.0     0.0        0.0  0.0 -0.107079  1.0 -1.613258  29.0 -0.500000   \n",
      "\n",
      "    outcome  censored  eligible  uncensored  p_uncensored      ipcw  \\\n",
      "0       0.0       0.0       1.0         1.0      0.914385  1.093631   \n",
      "6       0.0       0.0       1.0         1.0      0.963923  1.037428   \n",
      "7       0.0       0.0       1.0         1.0      0.966769  1.034373   \n",
      "11      0.0       0.0       1.0         1.0      0.874036  1.144118   \n",
      "19      0.0       0.0       1.0         1.0      0.905190  1.104740   \n",
      "\n",
      "    trial_period  followup_time  \n",
      "0            0.0            0.0  \n",
      "6            0.0            0.0  \n",
      "7            1.0            0.0  \n",
      "11           0.0            0.0  \n",
      "19           0.0            0.0  \n"
     ]
    }
   ],
   "source": [
    "def expand_trials(df):\n",
    "    \"\"\"\n",
    "    This function expands the data by selecting rows where 'eligible' is 1.\n",
    "    For each eligible row, a new trial entry is created with a trial period \n",
    "    (here, simply set to the current 'period') and an initial follow-up time of 0.\n",
    "    \"\"\"\n",
    "    expanded_rows = []\n",
    "    for _, row in df.iterrows():\n",
    "        if row['eligible'] == 1:\n",
    "            new_row = row.copy()\n",
    "            new_row['trial_period'] = row['period']  # starting period of trial entry\n",
    "            new_row['followup_time'] = 0             # initialize follow-up time\n",
    "            expanded_rows.append(new_row)\n",
    "    return pd.DataFrame(expanded_rows)\n",
    "\n",
    "expanded_data = expand_trials(data)\n",
    "print(\"Expanded Data Shape:\", expanded_data.shape)\n",
    "print(expanded_data.head())\n"
   ]
  },
  {
   "cell_type": "markdown",
   "id": "0d039293-3fcb-4de8-a6e4-4ff959c1943a",
   "metadata": {},
   "source": [
    "## Step 4: Fit the Outcome Model (Marginal Structural Model)\n",
    "\n",
    "We fit a weighted logistic regression to estimate the effect of treatment on the outcome. In this simplified model, we assume that the `assigned_treatment` is the same as the original `treatment` variable.\n"
   ]
  },
  {
   "cell_type": "code",
   "execution_count": 24,
   "id": "0a9ef81b-e2e5-440b-bf8c-9b7021eae3c0",
   "metadata": {},
   "outputs": [
    {
     "name": "stdout",
     "output_type": "stream",
     "text": [
      "Outcome Model Summary:\n",
      "                 Generalized Linear Model Regression Results                  \n",
      "==============================================================================\n",
      "Dep. Variable:                outcome   No. Observations:                  170\n",
      "Model:                            GLM   Df Residuals:                      166\n",
      "Model Family:                Binomial   Df Model:                            3\n",
      "Link Function:                  Logit   Scale:                          1.0000\n",
      "Method:                          IRLS   Log-Likelihood:                -7.9558\n",
      "Date:                Sat, 08 Mar 2025   Deviance:                       15.912\n",
      "Time:                        15:11:56   Pearson chi2:                     52.1\n",
      "No. Iterations:                    26   Pseudo R-squ. (CS):            0.03374\n",
      "Covariance Type:            nonrobust                                         \n",
      "======================================================================================\n",
      "                         coef    std err          z      P>|z|      [0.025      0.975]\n",
      "--------------------------------------------------------------------------------------\n",
      "Intercept            -26.4001   4.97e+04     -0.001      1.000   -9.75e+04    9.74e+04\n",
      "assigned_treatment    23.0978   4.97e+04      0.000      1.000   -9.74e+04    9.75e+04\n",
      "x2                     0.5721      0.642      0.892      0.373      -0.685       1.830\n",
      "followup_time               0          0        nan        nan           0           0\n",
      "trial_period         -20.0074   1.95e+04     -0.001      0.999   -3.83e+04    3.82e+04\n",
      "======================================================================================\n"
     ]
    },
    {
     "name": "stderr",
     "output_type": "stream",
     "text": [
      "C:\\Users\\dylan\\AppData\\Local\\Programs\\Python\\Python313\\Lib\\site-packages\\statsmodels\\base\\model.py:130: ValueWarning: unknown kwargs ['weights']\n",
      "  warnings.warn(msg, ValueWarning)\n"
     ]
    }
   ],
   "source": [
    "# For this example, we assign treatment directly.\n",
    "expanded_data['assigned_treatment'] = expanded_data['treatment']\n",
    "\n",
    "# Define the formula for the outcome model.\n",
    "# (A more complex model might include polynomial terms for followup_time and trial_period.)\n",
    "formula = \"outcome ~ assigned_treatment + x2 + followup_time + trial_period\"\n",
    "\n",
    "# Fit the weighted logistic regression model (using IPCW as weights)\n",
    "msm_model = smf.glm(formula, data=expanded_data,\n",
    "                    family=sm.families.Binomial(),\n",
    "                    weights=expanded_data['ipcw']).fit()\n",
    "print(\"Outcome Model Summary:\")\n",
    "print(msm_model.summary())\n"
   ]
  },
  {
   "cell_type": "markdown",
   "id": "83f3faf2-3474-4a68-81ef-6fffa2f6f7ec",
   "metadata": {},
   "source": [
    "## Step 5: Predictions and Visualization\n",
    "\n",
    "We now generate predictions from the outcome model over a range of follow-up times and plot the predicted outcome probabilities for a fixed treatment scenario.\n"
   ]
  },
  {
   "cell_type": "code",
   "execution_count": 25,
   "id": "30eacbc1-3017-4a26-a152-bf634a794cc0",
   "metadata": {},
   "outputs": [
    {
     "data": {
      "image/png": "[encoded data removed]",
      "text/plain": [
       "<Figure size 800x500 with 1 Axes>"
      ]
     },
     "metadata": {},
     "output_type": "display_data"
    }
   ],
   "source": [
    "# Create a DataFrame for prediction.\n",
    "# Here we generate predictions for followup times 0 through 10.\n",
    "followup_times = np.arange(0, 11)\n",
    "# For simplicity, use average values for x2 and set trial_period = 0.\n",
    "pred_data = pd.DataFrame({\n",
    "    'assigned_treatment': np.repeat(1, len(followup_times)),\n",
    "    'x2': np.repeat(expanded_data['x2'].mean(), len(followup_times)),\n",
    "    'followup_time': followup_times,\n",
    "    'trial_period': np.repeat(0, len(followup_times))\n",
    "})\n",
    "\n",
    "# If your model had additional terms (e.g., polynomial terms), add them here.\n",
    "pred_probs = msm_model.predict(pred_data)\n",
    "\n",
    "# Plot the predicted outcome probability over follow-up time.\n",
    "plt.figure(figsize=(8, 5))\n",
    "plt.plot(followup_times, pred_probs, marker='o', label=\"Treatment = 1\")\n",
    "plt.xlabel(\"Follow-up Time\")\n",
    "plt.ylabel(\"Predicted Outcome Probability\")\n",
    "plt.title(\"Predicted Outcome over Follow-up Time\")\n",
    "plt.legend()\n",
    "plt.grid(True)\n",
    "plt.show()\n"
   ]
  },
  {
   "cell_type": "markdown",
   "id": "b75c597e-b39b-420c-a893-c60d8850ea4e",
   "metadata": {},
   "source": [
    "## Conclusion\n",
    "\n",
    "In this notebook (TTE‑v1) we have:\n",
    "- Loaded and inspected the dummy data.\n",
    "- Computed inverse probability of censoring weights (IPCW) using a logistic regression model.\n",
    "- Expanded the data into a sequence of trial entries (for eligible patients).\n",
    "- Fitted a weighted logistic regression model (marginal structural model) to estimate the causal effect of treatment.\n",
    "- Generated predictions and plotted the predicted outcome probabilities over follow-up time.\n",
    "\n",
    "This notebook serves as a foundational replication of the target trial emulation analysis in Python. For further refinement, you could extend the trial expansion logic to more closely mirror the R tutorial's detailed process and include additional covariates or model adjustments.\n"
   ]
  },
  {
   "cell_type": "markdown",
   "id": "8dd0c565-425e-44b8-8425-480c6d957fb5",
   "metadata": {},
   "source": [
    "# User Prompts for TTE‑v1 Assistance\n",
    "\n",
    "Below is a list of the prompts you provided that guided the creation of the TTE‑v1 analysis notebook. These prompts reflect the evolution of your request from the initial assignment details to the final production of a fully documented notebook.\n",
    "\n",
    "1. **Initial Assignment Description**  \n",
    "   > *\"Assignment 1 for Clustering: New and novel methods in Machine Learning are made either by borrowing formulas and concepts from other scientific fields and redefining it based on new sets of assumptions, or by adding an extra step to an already existing framework of methodology.  \n",
    "   >  \n",
    "   > In this exercise (Assignment 1 of the Clustering Topic), we will try to develop a novel method of Target Trial Emulation by integrating concepts of Clustering into the already existing framework. Target Trial Emulation is a new methodological framework in epidemiology which tries to account for the biases in old and traditional designs.  \n",
    "   >  \n",
    "\n",
    "2. **Request to “Do that assignment for me”**  \n",
    "   > *\"do that assignment for me just follow everything said in the instructions\"*\n",
    "\n",
    "3. **Request for a Step-by-Step Guide**  \n",
    "   > *\"wait so based off that tell me how to do that assignment step by step\"*\n",
    "\n",
    "4. **Clarification with R Tutorial Details**  \n",
    "   > *\"its this btw: Target Trial Emulation in R  \n",
    "   > Alan Yang  \n",
    "   > This tutorial outlines the steps for implementing a Target Trial Emulation in R using the TrialEmulation package.  \n",
    "   > …\"*\n",
    "\n",
    "5. **R Installation Error Message**  \n",
    "   > *\"The downloaded binary packages are in  \n",
    "   >         C:\\Users\\dylan\\AppData\\Local\\Temp\\RtmpsvkqRQ\\downloaded_packages  \n",
    "   > > data(\"data_censored\", package=\"TrialEmulation\")\n",
    "   > Error in find.package(package, lib.loc, verbose = verbose) : \n",
    "   >  there is no package called ‘TrialEmulation’\n",
    "   > > write.csv(data_censored, \"data_censored.csv\", row.names = FALSE)\n",
    "   > Error in eval(expr, p) : object 'data_censored' not found\"*\n",
    "\n",
    "6. **Follow-Up Request for a From‑Scratch Guide**  \n",
    "   > *\"so from scratch give me a step by step way to do the assignment\"*\n",
    "\n",
    "7. **Request for the Full TTE‑v1 Notebook with Markdown**  \n",
    "   > *\"give me the full notebook for TTE-v1 with markdown already\"*\n",
    "\n",
    "8. **Request for a Full Documentation Notebook Structure**  \n",
    "   > *\"now the full Documentation notebook structure too please\"*\n",
    "\n",
    "9. **Request for All Prompts Used**  \n",
    "   > *\"give me the all the prompts i used to let you help me make TTE-v1 like an ai - assistant documention in markdown\"*\n",
    "\n",
    "---\n",
    "\n",
    "*End of User Prompt Documentation*\n"
   ]
  },
  {
   "cell_type": "code",
   "execution_count": null,
   "id": "3232bca5-b7c7-4b28-9b34-8f6146b81119",
   "metadata": {},
   "outputs": [],
   "source": []
  }
 ],
 "metadata": {
  "kernelspec": {
   "display_name": "Python 3 (ipykernel)",
   "language": "python",
   "name": "python3"
  },
  "language_info": {
   "codemirror_mode": {
    "name": "ipython",
    "version": 3
   },
   "file_extension": ".py",
   "mimetype": "text/x-python",
   "name": "python",
   "nbconvert_exporter": "python",
   "pygments_lexer": "ipython3",
   "version": "3.13.2"
  }
 },
 "nbformat": 4,
 "nbformat_minor": 5
}
