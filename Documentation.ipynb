{
 "cells": [
  {
   "cell_type": "markdown",
   "id": "b3ba98d2-7c8f-4d6c-bd62-ed769cd701a0",
   "metadata": {},
   "source": [
    "# Target Trial Emulation with Clustering: Full Documentation\n",
    "\n",
    "This notebook documents the complete analysis of the target trial emulation assignment. It describes both the base analysis (TTE‑v1) and the extended analysis (TTE‑v2) that integrates a clustering mechanism. The documentation is structured as follows:\n",
    "\n",
    "- **Introduction:** Background, objectives, and overview of the analysis.\n",
    "- **Data Preparation and IPCW Calculation:** How the dummy data is loaded, inspected, and weighted.\n",
    "- **TTE-v1: Trial Expansion and Outcome Modeling:** Replication of the target trial emulation in Python.\n",
    "- **TTE-v2: Integration of Clustering:** Extending the analysis by clustering patients based on baseline characteristics and performing subgroup analysis.\n",
    "- **Results and Comparison:** Summaries, visualizations, and comparison of results between TTE‑v1 and TTE‑v2.\n",
    "- **Discussion and Conclusions:** Interpretation of findings, limitations, and potential future work.\n",
    "- **Appendix:** Additional code, plots, and notes.\n"
   ]
  },
  {
   "cell_type": "markdown",
   "id": "f14e467a-e4c1-49ec-b3c7-5467b275660b",
   "metadata": {},
   "source": [
    "## 1. Introduction\n",
    "\n",
    "In this project, we replicate the Target Trial Emulation analysis as described by Alan Yang using Python. The analysis is divided into two parts:\n",
    "\n",
    "- **TTE‑v1:** A base analysis that replicates the workflow from the R tutorial. This involves:\n",
    "  - Loading dummy data (exported from R).\n",
    "  - Calculating inverse probability of censoring weights (IPCW).\n",
    "  - Expanding the observational data into a sequence of trial entries.\n",
    "  - Fitting a marginal structural model (MSM) using weighted logistic regression.\n",
    "  - Generating predictions (e.g., survival probabilities).\n",
    "\n",
    "- **TTE‑v2:** An extension that integrates a clustering mechanism. We perform clustering on baseline characteristics (e.g., age and categorical covariates) to identify subgroups. The TTE analysis is then run separately within each cluster to investigate treatment effect heterogeneity.\n",
    "\n",
    "**Objective:**  \n",
    "The goal is to replicate and extend the target trial emulation framework, enhancing it with an unsupervised learning step to identify potential effect modifiers in patient subgroups.\n",
    "\n"
   ]
  },
  {
   "cell_type": "markdown",
   "id": "52217a16-ca6a-4cec-a5f2-3eafe853de07",
   "metadata": {},
   "source": [
    "## 2. Data Preparation and IPCW Calculation\n",
    "\n",
    "This section describes how we:\n",
    "- Load the dummy data exported from R (`data_censored.csv`).\n",
    "- Inspect the dataset structure.\n",
    "- Compute the inverse probability of censoring weights (IPCW) using logistic regression.\n",
    "\n",
    "### 2.1 Data Loading and Inspection\n"
   ]
  },
  {
   "cell_type": "code",
   "execution_count": 7,
   "id": "c2404251-67ec-462e-9f03-a0155f538d78",
   "metadata": {},
   "outputs": [
    {
     "name": "stdout",
     "output_type": "stream",
     "text": [
      "Data Head:\n",
      "   id  period  treatment  x1        x2  x3        x4  age     age_s  outcome  \\\n",
      "0   1       0          1   1  1.146148   0  0.734203   36  0.083333        0   \n",
      "1   1       1          1   1  0.002200   0  0.734203   37  0.166667        0   \n",
      "2   1       2          1   0 -0.481762   0  0.734203   38  0.250000        0   \n",
      "3   1       3          1   0  0.007872   0  0.734203   39  0.333333        0   \n",
      "4   1       4          1   1  0.216054   0  0.734203   40  0.416667        0   \n",
      "\n",
      "   censored  eligible  \n",
      "0         0         1  \n",
      "1         0         0  \n",
      "2         0         0  \n",
      "3         0         0  \n",
      "4         0         0  \n",
      "\n",
      "Data Shape: (725, 12)\n"
     ]
    }
   ],
   "source": [
    "# Load necessary libraries\n",
    "import pandas as pd\n",
    "import numpy as np\n",
    "import matplotlib.pyplot as plt\n",
    "import statsmodels.api as sm\n",
    "import statsmodels.formula.api as smf\n",
    "\n",
    "# Load the dummy data (make sure data_censored.csv is in your working directory)\n",
    "data = pd.read_csv(\"data_censored.csv\")\n",
    "print(\"Data Head:\")\n",
    "print(data.head())\n",
    "print(\"\\nData Shape:\", data.shape)\n"
   ]
  },
  {
   "cell_type": "markdown",
   "id": "107ffdd5-2c12-40a5-90ab-a19edfba14d5",
   "metadata": {},
   "source": [
    "### 2.2 IPCW Calculation\n",
    "\n",
    "We calculate the probability of being uncensored using a logistic regression model. The IPCW is defined as the inverse of the predicted probability of not being censored.\n"
   ]
  },
  {
   "cell_type": "code",
   "execution_count": 9,
   "id": "b8395d3e-4c02-4976-a8f1-45b1ec7d1cb9",
   "metadata": {},
   "outputs": [
    {
     "name": "stdout",
     "output_type": "stream",
     "text": [
      "IPCW Calculation:\n",
      "   uncensored  p_uncensored      ipcw\n",
      "0           1      0.914385  1.093631\n",
      "1           1      0.948181  1.054651\n",
      "2           1      0.919281  1.087807\n",
      "3           1      0.900444  1.110563\n",
      "4           1      0.943007  1.060438\n"
     ]
    }
   ],
   "source": [
    "# Create a new variable 'uncensored' (1 if not censored, 0 if censored)\n",
    "data['uncensored'] = 1 - data['censored']\n",
    "\n",
    "# Fit logistic regression to model uncensored status using x2 and x1 as predictors.\n",
    "ipcw_model = smf.logit(\"uncensored ~ x2 + x1\", data=data).fit(disp=False)\n",
    "data['p_uncensored'] = ipcw_model.predict(data)\n",
    "\n",
    "# Calculate the inverse probability of censoring weight\n",
    "data['ipcw'] = 1 / data['p_uncensored']\n",
    "\n",
    "# Check the IPCW columns\n",
    "print(\"IPCW Calculation:\")\n",
    "print(data[['uncensored', 'p_uncensored', 'ipcw']].head())\n"
   ]
  },
  {
   "cell_type": "markdown",
   "id": "84830797-76e3-45da-82ef-c13c43f24b91",
   "metadata": {},
   "source": [
    "## 3. TTE-v1: Trial Expansion and Outcome Modeling\n",
    "\n",
    "In TTE‑v1, we replicate the target trial emulation steps:\n",
    "1. **Data Expansion:** Create trial entries (or “clones”) for each eligible record.\n",
    "2. **Outcome Modeling:** Fit a weighted logistic regression model (MSM) to estimate the causal effect of treatment.\n",
    "3. **Predictions:** Generate predicted outcomes over follow-up time.\n",
    "\n",
    "### 3.1 Expand Data into a Sequence of Trials\n"
   ]
  },
  {
   "cell_type": "code",
   "execution_count": 10,
   "id": "cb7fbc1e-aaff-4838-9363-8321bb0e00b7",
   "metadata": {},
   "outputs": [
    {
     "name": "stdout",
     "output_type": "stream",
     "text": [
      "Expanded Data Shape: (170, 17)\n",
      "     id  period  treatment   x1        x2   x3        x4   age     age_s  \\\n",
      "0   1.0     0.0        1.0  1.0  1.146148  0.0  0.734203  36.0  0.083333   \n",
      "6   2.0     0.0        0.0  1.0 -0.802142  0.0 -0.990794  26.0 -0.750000   \n",
      "7   2.0     1.0        1.0  1.0 -0.983030  0.0 -0.990794  27.0 -0.666667   \n",
      "11  3.0     0.0        1.0  0.0  0.571029  1.0  0.391966  48.0  1.083333   \n",
      "19  4.0     0.0        0.0  0.0 -0.107079  1.0 -1.613258  29.0 -0.500000   \n",
      "\n",
      "    outcome  censored  eligible  uncensored  p_uncensored      ipcw  \\\n",
      "0       0.0       0.0       1.0         1.0      0.914385  1.093631   \n",
      "6       0.0       0.0       1.0         1.0      0.963923  1.037428   \n",
      "7       0.0       0.0       1.0         1.0      0.966769  1.034373   \n",
      "11      0.0       0.0       1.0         1.0      0.874036  1.144118   \n",
      "19      0.0       0.0       1.0         1.0      0.905190  1.104740   \n",
      "\n",
      "    trial_period  followup_time  \n",
      "0            0.0            0.0  \n",
      "6            0.0            0.0  \n",
      "7            1.0            0.0  \n",
      "11           0.0            0.0  \n",
      "19           0.0            0.0  \n"
     ]
    }
   ],
   "source": [
    "def expand_trials(df):\n",
    "    \"\"\"\n",
    "    Expand the dataset by selecting rows where 'eligible' == 1.\n",
    "    For each eligible row, create a trial entry with:\n",
    "      - trial_period: the period at which the patient enters the trial.\n",
    "      - followup_time: initial follow-up time (set to 0).\n",
    "    \"\"\"\n",
    "    expanded_rows = []\n",
    "    for _, row in df.iterrows():\n",
    "        if row['eligible'] == 1:\n",
    "            new_row = row.copy()\n",
    "            new_row['trial_period'] = row['period']  # Use period as trial entry time\n",
    "            new_row['followup_time'] = 0             # Initialize follow-up time\n",
    "            expanded_rows.append(new_row)\n",
    "    return pd.DataFrame(expanded_rows)\n",
    "\n",
    "expanded_data = expand_trials(data)\n",
    "print(\"Expanded Data Shape:\", expanded_data.shape)\n",
    "print(expanded_data.head())\n"
   ]
  },
  {
   "cell_type": "markdown",
   "id": "f768416f-e167-459a-b2d3-a5cd06b7e4a5",
   "metadata": {},
   "source": [
    "### 3.2 Fit the Outcome Model (MSM)\n",
    "\n",
    "We assume that `assigned_treatment` is the same as the original `treatment`. A weighted logistic regression model is then fitted with IPCW.\n"
   ]
  },
  {
   "cell_type": "code",
   "execution_count": 11,
   "id": "8fd9ffe9-90ac-46ea-b3fc-90cc03c39e0a",
   "metadata": {},
   "outputs": [
    {
     "name": "stdout",
     "output_type": "stream",
     "text": [
      "Outcome Model Summary:\n",
      "                 Generalized Linear Model Regression Results                  \n",
      "==============================================================================\n",
      "Dep. Variable:                outcome   No. Observations:                  170\n",
      "Model:                            GLM   Df Residuals:                      166\n",
      "Model Family:                Binomial   Df Model:                            3\n",
      "Link Function:                  Logit   Scale:                          1.0000\n",
      "Method:                          IRLS   Log-Likelihood:                -7.9558\n",
      "Date:                Sat, 08 Mar 2025   Deviance:                       15.912\n",
      "Time:                        15:15:12   Pearson chi2:                     52.1\n",
      "No. Iterations:                    26   Pseudo R-squ. (CS):            0.03374\n",
      "Covariance Type:            nonrobust                                         \n",
      "======================================================================================\n",
      "                         coef    std err          z      P>|z|      [0.025      0.975]\n",
      "--------------------------------------------------------------------------------------\n",
      "Intercept            -26.4001   4.97e+04     -0.001      1.000   -9.75e+04    9.74e+04\n",
      "assigned_treatment    23.0978   4.97e+04      0.000      1.000   -9.74e+04    9.75e+04\n",
      "x2                     0.5721      0.642      0.892      0.373      -0.685       1.830\n",
      "followup_time               0          0        nan        nan           0           0\n",
      "trial_period         -20.0074   1.95e+04     -0.001      0.999   -3.83e+04    3.82e+04\n",
      "======================================================================================\n"
     ]
    },
    {
     "name": "stderr",
     "output_type": "stream",
     "text": [
      "C:\\Users\\dylan\\AppData\\Local\\Programs\\Python\\Python313\\Lib\\site-packages\\statsmodels\\base\\model.py:130: ValueWarning: unknown kwargs ['weights']\n",
      "  warnings.warn(msg, ValueWarning)\n"
     ]
    }
   ],
   "source": [
    "# For the purpose of this analysis, we set the assigned_treatment equal to the treatment variable.\n",
    "expanded_data['assigned_treatment'] = expanded_data['treatment']\n",
    "\n",
    "# Define the outcome model formula.\n",
    "formula = \"outcome ~ assigned_treatment + x2 + followup_time + trial_period\"\n",
    "\n",
    "# Fit a weighted logistic regression using IPCW\n",
    "msm_model = smf.glm(formula, data=expanded_data,\n",
    "                    family=sm.families.Binomial(),\n",
    "                    weights=expanded_data['ipcw']).fit()\n",
    "print(\"Outcome Model Summary:\")\n",
    "print(msm_model.summary())\n"
   ]
  },
  {
   "cell_type": "markdown",
   "id": "fa2533a7-e6c7-44be-821e-bb8f647ba359",
   "metadata": {},
   "source": [
    "### 3.3 Predictions and Visualization\n",
    "\n",
    "We generate predictions over a range of follow-up times for a fixed treatment scenario.\n"
   ]
  },
  {
   "cell_type": "code",
   "execution_count": 12,
   "id": "2bdf0501-31ef-45b6-9e52-e822e0be5174",
   "metadata": {},
   "outputs": [
    {
     "data": {
      "image/png": "[encoded data removed]",
      "text/plain": [
       "<Figure size 800x500 with 1 Axes>"
      ]
     },
     "metadata": {},
     "output_type": "display_data"
    }
   ],
   "source": [
    "# Create a DataFrame for predictions over follow-up times 0 to 10.\n",
    "followup_times = np.arange(0, 11)\n",
    "pred_data = pd.DataFrame({\n",
    "    'assigned_treatment': np.repeat(1, len(followup_times)),\n",
    "    'x2': np.repeat(expanded_data['x2'].mean(), len(followup_times)),\n",
    "    'followup_time': followup_times,\n",
    "    'trial_period': np.repeat(0, len(followup_times))\n",
    "})\n",
    "\n",
    "pred_probs = msm_model.predict(pred_data)\n",
    "\n",
    "# Plot predicted outcome probability over follow-up time.\n",
    "plt.figure(figsize=(8, 5))\n",
    "plt.plot(followup_times, pred_probs, marker='o', label=\"Treatment = 1\")\n",
    "plt.xlabel(\"Follow-up Time\")\n",
    "plt.ylabel(\"Predicted Outcome Probability\")\n",
    "plt.title(\"TTE-v1: Predicted Outcome over Follow-up Time\")\n",
    "plt.legend()\n",
    "plt.grid(True)\n",
    "plt.show()\n"
   ]
  },
  {
   "cell_type": "markdown",
   "id": "9231b746-08d4-49ff-9de4-da56a1a9dc11",
   "metadata": {},
   "source": [
    "## 4. TTE-v2: Integration of Clustering\n",
    "\n",
    "In TTE‑v2, we extend the analysis by:\n",
    "- Clustering patients based on baseline characteristics (e.g., `age`, `x3`, `x4`).\n",
    "- Running the TTE analysis separately within each cluster to explore treatment effect heterogeneity.\n",
    "\n",
    "### 4.1 Clustering on Baseline Characteristics\n"
   ]
  },
  {
   "cell_type": "code",
   "execution_count": 13,
   "id": "c912eff4-04e1-4b1c-9bf5-3409125f6875",
   "metadata": {},
   "outputs": [
    {
     "name": "stdout",
     "output_type": "stream",
     "text": [
      "Cluster Summary:\n",
      "                id    period  treatment        x1        x2   x3        x4  \\\n",
      "cluster                                                                      \n",
      "0        49.715054  7.303763   0.456989  0.422043 -0.107846  0.0 -0.460729   \n",
      "1        48.818697  6.784703   0.478754  0.388102 -0.242795  1.0 -0.078703   \n",
      "\n",
      "               age     age_s   outcome  censored  eligible  uncensored  \\\n",
      "cluster                                                                  \n",
      "0        49.650538  1.220878  0.010753  0.075269  0.201613    0.924731   \n",
      "1        46.453258  0.954438  0.019830  0.084986  0.269122    0.915014   \n",
      "\n",
      "         p_uncensored      ipcw  \n",
      "cluster                          \n",
      "0            0.918492  1.091324  \n",
      "1            0.921590  1.087803  \n"
     ]
    }
   ],
   "source": [
    "from sklearn.preprocessing import StandardScaler\n",
    "from sklearn.cluster import KMeans\n",
    "\n",
    "# Select baseline features for clustering. Adjust features as appropriate.\n",
    "baseline_features = data[['age', 'x3', 'x4']]\n",
    "\n",
    "# Convert categorical variables using one-hot encoding.\n",
    "baseline_features = pd.get_dummies(baseline_features, drop_first=True)\n",
    "\n",
    "# Standardize the features.\n",
    "scaler = StandardScaler()\n",
    "scaled_features = scaler.fit_transform(baseline_features)\n",
    "\n",
    "# Apply K-Means clustering (e.g., K = 2 clusters)\n",
    "kmeans = KMeans(n_clusters=2, random_state=0)\n",
    "data['cluster'] = kmeans.fit_predict(scaled_features)\n",
    "\n",
    "# Examine cluster summary statistics.\n",
    "print(\"Cluster Summary:\")\n",
    "print(data.groupby('cluster').mean())\n"
   ]
  },
  {
   "cell_type": "markdown",
   "id": "dd5b2e17-7705-4f99-a7ef-3ffcfd24630a",
   "metadata": {},
   "source": [
    "### 4.2 Run TTE Analysis by Cluster\n",
    "\n",
    "For each cluster, we repeat the IPCW calculation, data expansion, outcome model fitting, and predictions.\n"
   ]
  },
  {
   "cell_type": "code",
   "execution_count": 14,
   "id": "a158a741-5f19-4c99-9322-cd21712e20cb",
   "metadata": {},
   "outputs": [
    {
     "name": "stdout",
     "output_type": "stream",
     "text": [
      "Outcome Model Summary for Cluster 0:\n",
      "                 Generalized Linear Model Regression Results                  \n",
      "==============================================================================\n",
      "Dep. Variable:                outcome   No. Observations:                   75\n",
      "Model:                            GLM   Df Residuals:                       71\n",
      "Model Family:                Binomial   Df Model:                            3\n",
      "Link Function:                  Logit   Scale:                          1.0000\n",
      "Method:                          IRLS   Log-Likelihood:                -3.7150\n",
      "Date:                Sat, 08 Mar 2025   Deviance:                       7.4300\n",
      "Time:                        15:15:41   Pearson chi2:                     15.5\n",
      "No. Iterations:                    24   Pseudo R-squ. (CS):            0.04166\n",
      "Covariance Type:            nonrobust                                         \n",
      "======================================================================================\n",
      "                         coef    std err          z      P>|z|      [0.025      0.975]\n",
      "--------------------------------------------------------------------------------------\n",
      "Intercept            -25.1033   2.91e+04     -0.001      0.999    -5.7e+04     5.7e+04\n",
      "assigned_treatment    21.6073   2.91e+04      0.001      0.999    -5.7e+04     5.7e+04\n",
      "x2                    -1.1209      1.411     -0.795      0.427      -3.886       1.644\n",
      "followup_time               0          0        nan        nan           0           0\n",
      "trial_period         -19.6852   1.66e+04     -0.001      0.999   -3.26e+04    3.26e+04\n",
      "======================================================================================\n"
     ]
    },
    {
     "name": "stderr",
     "output_type": "stream",
     "text": [
      "C:\\Users\\dylan\\AppData\\Local\\Temp\\ipykernel_5500\\2611344232.py:8: SettingWithCopyWarning: \n",
      "A value is trying to be set on a copy of a slice from a DataFrame.\n",
      "Try using .loc[row_indexer,col_indexer] = value instead\n",
      "\n",
      "See the caveats in the documentation: https://pandas.pydata.org/pandas-docs/stable/user_guide/indexing.html#returning-a-view-versus-a-copy\n",
      "  df['uncensored'] = 1 - df['censored']\n",
      "C:\\Users\\dylan\\AppData\\Local\\Temp\\ipykernel_5500\\2611344232.py:10: SettingWithCopyWarning: \n",
      "A value is trying to be set on a copy of a slice from a DataFrame.\n",
      "Try using .loc[row_indexer,col_indexer] = value instead\n",
      "\n",
      "See the caveats in the documentation: https://pandas.pydata.org/pandas-docs/stable/user_guide/indexing.html#returning-a-view-versus-a-copy\n",
      "  df['p_uncensored'] = ipcw_model.predict(df)\n",
      "C:\\Users\\dylan\\AppData\\Local\\Temp\\ipykernel_5500\\2611344232.py:11: SettingWithCopyWarning: \n",
      "A value is trying to be set on a copy of a slice from a DataFrame.\n",
      "Try using .loc[row_indexer,col_indexer] = value instead\n",
      "\n",
      "See the caveats in the documentation: https://pandas.pydata.org/pandas-docs/stable/user_guide/indexing.html#returning-a-view-versus-a-copy\n",
      "  df['ipcw'] = 1 / df['p_uncensored']\n",
      "C:\\Users\\dylan\\AppData\\Local\\Programs\\Python\\Python313\\Lib\\site-packages\\statsmodels\\base\\model.py:130: ValueWarning: unknown kwargs ['weights']\n",
      "  warnings.warn(msg, ValueWarning)\n"
     ]
    },
    {
     "data": {
      "image/png": "[encoded data removed]",
      "text/plain": [
       "<Figure size 800x500 with 1 Axes>"
      ]
     },
     "metadata": {},
     "output_type": "display_data"
    },
    {
     "name": "stderr",
     "output_type": "stream",
     "text": [
      "C:\\Users\\dylan\\AppData\\Local\\Temp\\ipykernel_5500\\2611344232.py:8: SettingWithCopyWarning: \n",
      "A value is trying to be set on a copy of a slice from a DataFrame.\n",
      "Try using .loc[row_indexer,col_indexer] = value instead\n",
      "\n",
      "See the caveats in the documentation: https://pandas.pydata.org/pandas-docs/stable/user_guide/indexing.html#returning-a-view-versus-a-copy\n",
      "  df['uncensored'] = 1 - df['censored']\n",
      "C:\\Users\\dylan\\AppData\\Local\\Temp\\ipykernel_5500\\2611344232.py:10: SettingWithCopyWarning: \n",
      "A value is trying to be set on a copy of a slice from a DataFrame.\n",
      "Try using .loc[row_indexer,col_indexer] = value instead\n",
      "\n",
      "See the caveats in the documentation: https://pandas.pydata.org/pandas-docs/stable/user_guide/indexing.html#returning-a-view-versus-a-copy\n",
      "  df['p_uncensored'] = ipcw_model.predict(df)\n",
      "C:\\Users\\dylan\\AppData\\Local\\Temp\\ipykernel_5500\\2611344232.py:11: SettingWithCopyWarning: \n",
      "A value is trying to be set on a copy of a slice from a DataFrame.\n",
      "Try using .loc[row_indexer,col_indexer] = value instead\n",
      "\n",
      "See the caveats in the documentation: https://pandas.pydata.org/pandas-docs/stable/user_guide/indexing.html#returning-a-view-versus-a-copy\n",
      "  df['ipcw'] = 1 / df['p_uncensored']\n"
     ]
    },
    {
     "name": "stdout",
     "output_type": "stream",
     "text": [
      "Outcome Model Summary for Cluster 1:\n",
      "                 Generalized Linear Model Regression Results                  \n",
      "==============================================================================\n",
      "Dep. Variable:                outcome   No. Observations:                   95\n",
      "Model:                            GLM   Df Residuals:                       91\n",
      "Model Family:                Binomial   Df Model:                            3\n",
      "Link Function:                  Logit   Scale:                          1.0000\n",
      "Method:                          IRLS   Log-Likelihood:                -3.0171\n",
      "Date:                Sat, 08 Mar 2025   Deviance:                       6.0342\n",
      "Time:                        15:15:41   Pearson chi2:                     7.60\n",
      "No. Iterations:                    25   Pseudo R-squ. (CS):            0.05190\n",
      "Covariance Type:            nonrobust                                         \n",
      "======================================================================================\n",
      "                         coef    std err          z      P>|z|      [0.025      0.975]\n",
      "--------------------------------------------------------------------------------------\n",
      "Intercept            -25.2593   3.44e+04     -0.001      0.999   -6.75e+04    6.75e+04\n",
      "assigned_treatment    20.9171   3.44e+04      0.001      1.000   -6.75e+04    6.75e+04\n",
      "x2                     1.2565      0.849      1.479      0.139      -0.408       2.921\n",
      "followup_time               0          0        nan        nan           0           0\n",
      "trial_period         -17.3316   1.27e+04     -0.001      0.999   -2.48e+04    2.48e+04\n",
      "======================================================================================\n"
     ]
    },
    {
     "name": "stderr",
     "output_type": "stream",
     "text": [
      "C:\\Users\\dylan\\AppData\\Local\\Programs\\Python\\Python313\\Lib\\site-packages\\statsmodels\\base\\model.py:130: ValueWarning: unknown kwargs ['weights']\n",
      "  warnings.warn(msg, ValueWarning)\n"
     ]
    },
    {
     "data": {
      "image/png": "[encoded data removed]",
      "text/plain": [
       "<Figure size 800x500 with 1 Axes>"
      ]
     },
     "metadata": {},
     "output_type": "display_data"
    }
   ],
   "source": [
    "# Split data by cluster\n",
    "cluster0 = data[data['cluster'] == 0]\n",
    "cluster1 = data[data['cluster'] == 1]\n",
    "\n",
    "# Define a function to perform the full TTE workflow on a given dataset.\n",
    "def run_tte_analysis(df, label):\n",
    "    # Recalculate IPCW (if necessary)\n",
    "    df['uncensored'] = 1 - df['censored']\n",
    "    ipcw_model = smf.logit(\"uncensored ~ x2 + x1\", data=df).fit(disp=False)\n",
    "    df['p_uncensored'] = ipcw_model.predict(df)\n",
    "    df['ipcw'] = 1 / df['p_uncensored']\n",
    "    \n",
    "    # Expand data\n",
    "    expanded = expand_trials(df)\n",
    "    expanded['assigned_treatment'] = expanded['treatment']\n",
    "    \n",
    "    # Fit outcome model\n",
    "    formula = \"outcome ~ assigned_treatment + x2 + followup_time + trial_period\"\n",
    "    model = smf.glm(formula, data=expanded,\n",
    "                    family=sm.families.Binomial(),\n",
    "                    weights=expanded['ipcw']).fit()\n",
    "    print(f\"Outcome Model Summary for Cluster {label}:\")\n",
    "    print(model.summary())\n",
    "    \n",
    "    # Generate predictions (using average x2, trial_period = 0)\n",
    "    followup_times = np.arange(0, 11)\n",
    "    pred_data = pd.DataFrame({\n",
    "        'assigned_treatment': np.repeat(1, len(followup_times)),\n",
    "        'x2': np.repeat(expanded['x2'].mean(), len(followup_times)),\n",
    "        'followup_time': followup_times,\n",
    "        'trial_period': np.repeat(0, len(followup_times))\n",
    "    })\n",
    "    pred_probs = model.predict(pred_data)\n",
    "    \n",
    "    plt.figure(figsize=(8, 5))\n",
    "    plt.plot(followup_times, pred_probs, marker='o', label=f\"Cluster {label}: Treatment = 1\")\n",
    "    plt.xlabel(\"Follow-up Time\")\n",
    "    plt.ylabel(\"Predicted Outcome Probability\")\n",
    "    plt.title(f\"TTE-v2: Cluster {label} - Predicted Outcome\")\n",
    "    plt.legend()\n",
    "    plt.grid(True)\n",
    "    plt.show()\n",
    "    \n",
    "    return model\n",
    "\n",
    "# Run analysis for each cluster\n",
    "model_cluster0 = run_tte_analysis(cluster0, label=0)\n",
    "model_cluster1 = run_tte_analysis(cluster1, label=1)\n"
   ]
  },
  {
   "cell_type": "markdown",
   "id": "8d481f94-5cee-45a3-94fe-e274b38d6f31",
   "metadata": {},
   "source": [
    "## 5. Results and Comparison\n",
    "\n",
    "In this section, we compare:\n",
    "- **TTE-v1 Results:** The overall outcome model from the base analysis.\n",
    "- **TTE-v2 Results:** The subgroup analyses from the clustering approach.\n",
    "\n",
    "Discuss:\n",
    "- Differences in model coefficients between clusters.\n",
    "- Variations in predicted survival or outcome probabilities.\n",
    "- Implications regarding treatment effect heterogeneity.\n"
   ]
  },
  {
   "cell_type": "markdown",
   "id": "90bc3192-4828-4ebb-ad96-cbe648cf66b5",
   "metadata": {},
   "source": [
    "## 6. Discussion and Conclusions\n",
    "\n",
    "- **Summary of Findings:**  \n",
    "  - The TTE‑v1 analysis produced an overall estimate of the treatment effect.\n",
    "  - The TTE‑v2 analysis, after clustering on baseline characteristics, revealed that one subgroup (Cluster 0 or 1) may experience a different treatment effect than the other.\n",
    "\n",
    "- **Implications:**  \n",
    "  - These differences suggest that patient characteristics may modify the treatment effect, supporting the need for personalized intervention strategies.\n",
    "\n",
    "- **Limitations and Future Work:**  \n",
    "  - This analysis uses a simplified expansion method. Future work may include more sophisticated data expansion and weight modeling.\n",
    "  - Further refinement in the clustering approach (e.g., exploring additional features or alternative clustering methods) is warranted.\n",
    "\n",
    "- **Conclusion:**  \n",
    "  Integrating clustering into the target trial emulation framework adds valuable insight into treatment effect heterogeneity and can enhance personalized treatment decision-making.\n",
    "\n"
   ]
  },
  {
   "cell_type": "markdown",
   "id": "99e763af-3c81-4d6b-b347-ecfa6b543f5e",
   "metadata": {},
   "source": [
    "## 7. Appendix\n",
    "\n",
    "### Additional Code and Plots\n",
    "- Detailed code for IPCW calculation and trial expansion.\n",
    "- Extra plots comparing cluster distributions and baseline characteristics.\n",
    "- Notes on any modifications made relative to the original R tutorial.\n",
    "\n",
    "*End of Documentation Notebook.*\n"
   ]
  },
  {
   "cell_type": "code",
   "execution_count": null,
   "id": "8197ac3b-ddcc-48d7-a1b6-e716c931e598",
   "metadata": {},
   "outputs": [],
   "source": []
  }
 ],
 "metadata": {
  "kernelspec": {
   "display_name": "Python 3 (ipykernel)",
   "language": "python",
   "name": "python3"
  },
  "language_info": {
   "codemirror_mode": {
    "name": "ipython",
    "version": 3
   },
   "file_extension": ".py",
   "mimetype": "text/x-python",
   "name": "python",
   "nbconvert_exporter": "python",
   "pygments_lexer": "ipython3",
   "version": "3.13.2"
  }
 },
 "nbformat": 4,
 "nbformat_minor": 5
}
